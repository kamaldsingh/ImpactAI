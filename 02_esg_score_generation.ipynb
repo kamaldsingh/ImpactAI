{
 "cells": [
  {
   "cell_type": "code",
   "execution_count": 1,
   "id": "945de653-7f04-41eb-9e1e-5905ce06a449",
   "metadata": {},
   "outputs": [],
   "source": [
    "# !pip install wordcloud"
   ]
  },
  {
   "cell_type": "code",
   "execution_count": 1,
   "id": "ba656d5b-d133-429a-af90-d15500efd3d2",
   "metadata": {},
   "outputs": [
    {
     "name": "stderr",
     "output_type": "stream",
     "text": [
      "[nltk_data] Downloading package punkt to /Users/kamal/nltk_data...\n",
      "[nltk_data]   Package punkt is already up-to-date!\n",
      "Xformers is not installed correctly. If you want to use memory_efficient_attention to accelerate training use the following command to install Xformers\n",
      "pip install xformers.\n"
     ]
    }
   ],
   "source": [
    "%run -i helpers.py\n",
    "%matplotlib inline"
   ]
  },
  {
   "cell_type": "code",
   "execution_count": 2,
   "id": "423dac03-05a9-49b2-90ef-0912dcf516ec",
   "metadata": {},
   "outputs": [],
   "source": [
    "tp = pd.read_csv('./data/tp_splits.csv')\n",
    "tp.dt = pd.to_datetime(tp.dt)\n",
    "tp.sort_values(['ticker','dt'],inplace=True)\n",
    "\n",
    "snp = pd.read_csv('./data/constituents_csv.csv')\n",
    "snp.Symbol = snp.Symbol.astype(str)\n",
    "constituents_snp = [x for x in list(tp.ticker.unique()) if x in snp.Symbol.tolist()]\n",
    "# print(f'we have {len(constituents_snp)} cons in S&P 500')  # 474\n",
    "tp_snp = tp[tp.ticker.isin(constituents_snp)]"
   ]
  },
  {
   "cell_type": "code",
   "execution_count": 4,
   "id": "b18f126a-ef4e-4929-9c58-86075d66a9bb",
   "metadata": {},
   "outputs": [],
   "source": [
    "# print(tp.ticker.nunique())\n",
    "# tp.dt.describe()\n",
    "# 2019-04-11  to 2023-02-23"
   ]
  },
  {
   "cell_type": "code",
   "execution_count": 5,
   "id": "f762b8d8-adf1-4512-b78f-2bb6d34e3efb",
   "metadata": {},
   "outputs": [
    {
     "name": "stdout",
     "output_type": "stream",
     "text": [
      "running for: OLO\n",
      "running for: MO\n",
      "running for: MKC\n",
      "running for: EVRG\n",
      "running for: SHYF\n",
      "running for: DFS\n",
      "running for: VNT\n",
      "running for: MTX\n",
      "running for: MRCC\n",
      "running for: GLBE\n",
      "running for: TLYS\n",
      "running for: MNRO\n",
      "running for: PAYC\n",
      "running for: USNA\n",
      "running for: JW.A\n",
      "running for: SWIM\n",
      "running for: BB\n",
      "running for: KTB\n",
      "running for: VOYA\n",
      "running for: DRI\n",
      "running for: SID\n",
      "running for: COP\n",
      "running for: DYNC)\n",
      "running for: CNTY\n",
      "running for: MDP\n",
      "running for: T\n",
      "running for: MEOH\n",
      "running for: TRIP\n",
      "running for: DPZ\n",
      "running for: TS\n",
      "running for: STVN\n",
      "running for: IMOS\n",
      "running for: AMSWA\n",
      "running for: NTCO\n",
      "running for: TYL\n",
      "running for: JE\n",
      "running for: BHLB\n",
      "running for: MVIS\n",
      "running for: LOB\n",
      "running for: LVS\n",
      "running for: FISV\n",
      "running for: CTAS\n",
      "running for: AUDC\n",
      "running for: IRBT\n",
      "running for: PDCO\n",
      "running for: SAH\n",
      "running for: PCH\n",
      "running for: RTLR\n",
      "running for: NICE\n",
      "running for: CGNX\n",
      "running for: RGA\n",
      "running for: AKAM\n",
      "running for: EGBN\n",
      "running for: PEN\n",
      "running for: WLTW\n",
      "running for: TRN\n",
      "running for: DUOL\n",
      "running for: FDX\n",
      "running for: SJW\n",
      "running for: SAGE\n",
      "running for: EAT\n",
      "running for: ALLO\n",
      "running for: JRVR\n",
      "running for: JMIA\n",
      "running for: PD\n",
      "running for: SNDL\n",
      "running for: TPIC\n",
      "running for: CCR\n",
      "running for: CYTK\n",
      "running for: POSH\n",
      "running for: GPL\n",
      "running for: PSTG\n",
      "running for: DYNC)\n",
      "running for: NDSN\n",
      "running for: CRUS\n",
      "running for: RXT\n",
      "running for: NVS\n",
      "running for: EVTC\n",
      "running for: AN\n",
      "running for: LCII\n",
      "running for: CARR\n",
      "running for: CBZ\n",
      "running for: AVA\n",
      "running for: CO\n",
      "running for: NVMI\n",
      "running for: AWH\n",
      "running for: SLG\n",
      "running for: MRVL\n",
      "running for: FLO\n",
      "running for: LCI\n",
      "running for: TREX\n",
      "running for: TERP\n",
      "running for: CVET\n",
      "running for: ATRC\n",
      "running for: BEP\n",
      "running for: MXCT\n",
      "running for: RARE\n",
      "running for: DRQ\n",
      "running for: PTVE\n",
      "running for: FIBK\n"
     ]
    }
   ],
   "source": [
    "np.random.seed(10)\n",
    "sample_tics = np.random.choice(tp.ticker.unique(),100)\n",
    "for tic in sample_tics:     #list(tp.ticker.unique())[11:]:\n",
    "    print(f'running for: {tic}')\n",
    "    if not exists(f'./tickers/{tic}.csv'):\n",
    "        df = generate_esg_cols_sections(tic)\n",
    "        df.to_csv(f'./tickers/{tic}.csv',index=None)\n",
    "        del df\n",
    "        gc.collect()"
   ]
  }
 ],
 "metadata": {
  "kernelspec": {
   "display_name": "Python 3 (ipykernel)",
   "language": "python",
   "name": "python3"
  },
  "language_info": {
   "codemirror_mode": {
    "name": "ipython",
    "version": 3
   },
   "file_extension": ".py",
   "mimetype": "text/x-python",
   "name": "python",
   "nbconvert_exporter": "python",
   "pygments_lexer": "ipython3",
   "version": "3.9.16"
  }
 },
 "nbformat": 4,
 "nbformat_minor": 5
}
